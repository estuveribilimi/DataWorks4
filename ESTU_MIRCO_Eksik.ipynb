{
 "cells": [
  {
   "cell_type": "markdown",
   "metadata": {},
   "source": [
    "# MIRCO - Kredi Riski Uygulaması\n",
    "\n",
    "Bu sayfada iki tane uygulamadan bahsedeceğiz. İlk örneğimiz kredi başvuruları, ikincisi ise sahtekarlık tespiti üzerine. Örneklerin daha açıklayıcı olması veri kümelerini ve öznitelik sayısını küçülteceğiz. Kolaylık olması açısından yeni oluşturduğumuz bu veri kümelerini de aynı dizinde bulabilirsiniz."
   ]
  },
  {
   "cell_type": "markdown",
   "metadata": {},
   "source": [
    "## Kredi Başvuruları\n",
    "\n",
    "Bu veriyi ve açıklamasını şu [sayfada](https://archive.ics.uci.edu/ml/datasets/Statlog+%28German+Credit+Data%29) bulabilirsiniz.\n",
    "\n",
    "İlk olarak kullanacağımız kütüphaneleri ekleyelim. En son satırda bugün konuştuğumuz yöntem MIRCO'yu görebilirsiniz."
   ]
  },
  {
   "cell_type": "code",
   "execution_count": 1,
   "metadata": {},
   "outputs": [],
   "source": [
    "import numpy as np\n",
    "import pandas as pd\n",
    "from sklearn.metrics import accuracy_score\n",
    "from sklearn.ensemble import RandomForestClassifier\n",
    "from sklearn.tree import DecisionTreeClassifier\n",
    "from sklearn.model_selection import train_test_split \n",
    "from MIRCO import MIRCO"
   ]
  },
  {
   "cell_type": "markdown",
   "metadata": {},
   "source": [
    "Veriyi alalım ve öznitelik isimlerini ekleyelim. En son sütunda tahmin etmeye çalıştığımız etiket var."
   ]
  },
  {
   "cell_type": "code",
   "execution_count": 2,
   "metadata": {},
   "outputs": [
    {
     "data": {
      "text/html": [
       "<div>\n",
       "<style scoped>\n",
       "    .dataframe tbody tr th:only-of-type {\n",
       "        vertical-align: middle;\n",
       "    }\n",
       "\n",
       "    .dataframe tbody tr th {\n",
       "        vertical-align: top;\n",
       "    }\n",
       "\n",
       "    .dataframe thead th {\n",
       "        text-align: right;\n",
       "    }\n",
       "</style>\n",
       "<table border=\"1\" class=\"dataframe\">\n",
       "  <thead>\n",
       "    <tr style=\"text-align: right;\">\n",
       "      <th></th>\n",
       "      <th>Mevduat Miktarı</th>\n",
       "      <th>Kredi Geçmişi</th>\n",
       "      <th>Kredi Miktarı</th>\n",
       "      <th>Çalışma Süresi</th>\n",
       "      <th>Medeni Durumu</th>\n",
       "      <th>Yaşı</th>\n",
       "      <th>Ev Bilgisi</th>\n",
       "      <th>Kredi Kararı</th>\n",
       "    </tr>\n",
       "  </thead>\n",
       "  <tbody>\n",
       "    <tr>\n",
       "      <th>0</th>\n",
       "      <td>1</td>\n",
       "      <td>4</td>\n",
       "      <td>5</td>\n",
       "      <td>3</td>\n",
       "      <td>1</td>\n",
       "      <td>1</td>\n",
       "      <td>1</td>\n",
       "      <td>0</td>\n",
       "    </tr>\n",
       "    <tr>\n",
       "      <th>1</th>\n",
       "      <td>2</td>\n",
       "      <td>2</td>\n",
       "      <td>1</td>\n",
       "      <td>2</td>\n",
       "      <td>1</td>\n",
       "      <td>1</td>\n",
       "      <td>1</td>\n",
       "      <td>0</td>\n",
       "    </tr>\n",
       "    <tr>\n",
       "      <th>2</th>\n",
       "      <td>4</td>\n",
       "      <td>4</td>\n",
       "      <td>1</td>\n",
       "      <td>3</td>\n",
       "      <td>1</td>\n",
       "      <td>2</td>\n",
       "      <td>1</td>\n",
       "      <td>0</td>\n",
       "    </tr>\n",
       "    <tr>\n",
       "      <th>3</th>\n",
       "      <td>1</td>\n",
       "      <td>2</td>\n",
       "      <td>1</td>\n",
       "      <td>3</td>\n",
       "      <td>2</td>\n",
       "      <td>2</td>\n",
       "      <td>1</td>\n",
       "      <td>0</td>\n",
       "    </tr>\n",
       "    <tr>\n",
       "      <th>4</th>\n",
       "      <td>1</td>\n",
       "      <td>3</td>\n",
       "      <td>1</td>\n",
       "      <td>3</td>\n",
       "      <td>4</td>\n",
       "      <td>2</td>\n",
       "      <td>1</td>\n",
       "      <td>1</td>\n",
       "    </tr>\n",
       "  </tbody>\n",
       "</table>\n",
       "</div>"
      ],
      "text/plain": [
       "   Mevduat Miktarı  Kredi Geçmişi  Kredi Miktarı  Çalışma Süresi  \\\n",
       "0                1              4              5               3   \n",
       "1                2              2              1               2   \n",
       "2                4              4              1               3   \n",
       "3                1              2              1               3   \n",
       "4                1              3              1               3   \n",
       "\n",
       "   Medeni Durumu  Yaşı  Ev Bilgisi  Kredi Kararı  \n",
       "0              1     1           1             0  \n",
       "1              1     1           1             0  \n",
       "2              1     2           1             0  \n",
       "3              2     2           1             0  \n",
       "4              4     2           1             1  "
      ]
     },
     "execution_count": 2,
     "metadata": {},
     "output_type": "execute_result"
    }
   ],
   "source": [
    "df = pd.read_csv('./datasets/german-data-numeric-thin.csv', header = None)\n",
    "df.columns = ['Mevduat Miktarı', 'Kredi Geçmişi', 'Kredi Miktarı', 'Çalışma Süresi', \\\n",
    "             'Medeni Durumu', 'Yaşı', 'Ev Bilgisi', 'Kredi Kararı']\n",
    "df.head()"
   ]
  },
  {
   "cell_type": "markdown",
   "metadata": {},
   "source": [
    "Çözüm yöntemlerinde denemek için veriyi, girdi ($X$) ve çıktı ($y$) olarak belirleyelim. "
   ]
  },
  {
   "cell_type": "code",
   "execution_count": 3,
   "metadata": {},
   "outputs": [
    {
     "data": {
      "text/plain": [
       "(1000, 7)"
      ]
     },
     "execution_count": 3,
     "metadata": {},
     "output_type": "execute_result"
    }
   ],
   "source": [
    "df = np.array(df)\n",
    "X = df[:, 0:-1]                                                                    \n",
    "y = df[:, -1]\n",
    "np.shape(X)"
   ]
  },
  {
   "cell_type": "markdown",
   "metadata": {},
   "source": [
    "## Sahtekarlık Tespiti\n",
    "\n",
    "Bu veriyi ve açıklamasını şu [sayfada](https://www.kaggle.com/kabure/credit-card-fraud-prediction-rf-smote) bulabilirsiniz. Aşağıda göreceğiniz gibi 1020 örnekten sadece 22'sinde sahtekarlık tespit edilmiş. Yani veri kümesi oldukça dengesiz."
   ]
  },
  {
   "cell_type": "code",
   "execution_count": 4,
   "metadata": {},
   "outputs": [
    {
     "name": "stdout",
     "output_type": "stream",
     "text": [
      "(1020, 30)\n",
      "Toplam örnek sayısı:  1020\n",
      "Vaka sayısı:  22\n"
     ]
    }
   ],
   "source": [
    "df = np.array(pd.read_csv('./datasets/creditcard-1K.csv', header = None))\n",
    "X = df[:, 0:-1]                                                                    \n",
    "y = df[:, -1]\n",
    "print(np.shape(X))\n",
    "print('Toplam örnek sayısı: ', len(y))\n",
    "print('Vaka sayısı: ', len(y[y==1]))"
   ]
  },
  {
   "cell_type": "markdown",
   "metadata": {},
   "source": [
    "## 'Banknote' Veri Kümesi\n",
    "\n",
    "Bu farklı banknot resimlerinden elde edilen özniteliklere göre oluşturulmuş. Amaç banknotların gerçek olup olmadıklarını belirlemek."
   ]
  },
  {
   "cell_type": "code",
   "execution_count": 5,
   "metadata": {},
   "outputs": [
    {
     "name": "stdout",
     "output_type": "stream",
     "text": [
      "(1372, 4)\n"
     ]
    }
   ],
   "source": [
    "df = np.array(pd.read_csv('./datasets/data_banknote_authentication.csv', header = None))\n",
    "X = df[:, 0:-1]                                                                    \n",
    "y = df[:, -1]\n",
    "print(np.shape(X))"
   ]
  }
 ],
 "metadata": {
  "kernelspec": {
   "display_name": "Python 3",
   "language": "python",
   "name": "python3"
  },
  "language_info": {
   "codemirror_mode": {
    "name": "ipython",
    "version": 3
   },
   "file_extension": ".py",
   "mimetype": "text/x-python",
   "name": "python",
   "nbconvert_exporter": "python",
   "pygments_lexer": "ipython3",
   "version": "3.8.6"
  }
 },
 "nbformat": 4,
 "nbformat_minor": 4
}
